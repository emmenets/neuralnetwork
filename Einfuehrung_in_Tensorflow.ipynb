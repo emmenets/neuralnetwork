{
  "nbformat": 4,
  "nbformat_minor": 0,
  "metadata": {
    "colab": {
      "name": "Overview of Colaboratory Features",
      "version": "0.3.2",
      "provenance": [],
      "collapsed_sections": [],
      "include_colab_link": true
    },
    "kernelspec": {
      "display_name": "Python 3",
      "name": "python3"
    }
  },
  "cells": [
    {
      "cell_type": "markdown",
      "metadata": {
        "id": "view-in-github",
        "colab_type": "text"
      },
      "source": [
        "<a href=\"https://colab.research.google.com/github/emmenets/neuralnetwork/blob/master/Einfuehrung_in_Tensorflow.ipynb\" target=\"_parent\"><img src=\"https://colab.research.google.com/assets/colab-badge.svg\" alt=\"Open In Colab\"/></a>"
      ]
    },
    {
      "cell_type": "code",
      "metadata": {
        "id": "3eDIwxCELvN-",
        "colab_type": "code",
        "outputId": "a5bb4ac6-ee81-4774-a857-b21c3d6788e6",
        "colab": {
          "base_uri": "https://localhost:8080/",
          "height": 389
        }
      },
      "source": [
        "pip install tensorflow"
      ],
      "execution_count": 1,
      "outputs": [
        {
          "output_type": "stream",
          "text": [
            "Requirement already satisfied: tensorflow in /usr/local/lib/python3.6/dist-packages (1.14.0)\n",
            "Requirement already satisfied: keras-applications>=1.0.6 in /usr/local/lib/python3.6/dist-packages (from tensorflow) (1.0.8)\n",
            "Requirement already satisfied: tensorboard<1.15.0,>=1.14.0 in /usr/local/lib/python3.6/dist-packages (from tensorflow) (1.14.0)\n",
            "Requirement already satisfied: wrapt>=1.11.1 in /usr/local/lib/python3.6/dist-packages (from tensorflow) (1.11.2)\n",
            "Requirement already satisfied: numpy<2.0,>=1.14.5 in /usr/local/lib/python3.6/dist-packages (from tensorflow) (1.16.4)\n",
            "Requirement already satisfied: tensorflow-estimator<1.15.0rc0,>=1.14.0rc0 in /usr/local/lib/python3.6/dist-packages (from tensorflow) (1.14.0)\n",
            "Requirement already satisfied: wheel>=0.26 in /usr/local/lib/python3.6/dist-packages (from tensorflow) (0.33.4)\n",
            "Requirement already satisfied: gast>=0.2.0 in /usr/local/lib/python3.6/dist-packages (from tensorflow) (0.2.2)\n",
            "Requirement already satisfied: absl-py>=0.7.0 in /usr/local/lib/python3.6/dist-packages (from tensorflow) (0.7.1)\n",
            "Requirement already satisfied: termcolor>=1.1.0 in /usr/local/lib/python3.6/dist-packages (from tensorflow) (1.1.0)\n",
            "Requirement already satisfied: grpcio>=1.8.6 in /usr/local/lib/python3.6/dist-packages (from tensorflow) (1.15.0)\n",
            "Requirement already satisfied: protobuf>=3.6.1 in /usr/local/lib/python3.6/dist-packages (from tensorflow) (3.7.1)\n",
            "Requirement already satisfied: six>=1.10.0 in /usr/local/lib/python3.6/dist-packages (from tensorflow) (1.12.0)\n",
            "Requirement already satisfied: google-pasta>=0.1.6 in /usr/local/lib/python3.6/dist-packages (from tensorflow) (0.1.7)\n",
            "Requirement already satisfied: keras-preprocessing>=1.0.5 in /usr/local/lib/python3.6/dist-packages (from tensorflow) (1.1.0)\n",
            "Requirement already satisfied: astor>=0.6.0 in /usr/local/lib/python3.6/dist-packages (from tensorflow) (0.8.0)\n",
            "Requirement already satisfied: h5py in /usr/local/lib/python3.6/dist-packages (from keras-applications>=1.0.6->tensorflow) (2.8.0)\n",
            "Requirement already satisfied: markdown>=2.6.8 in /usr/local/lib/python3.6/dist-packages (from tensorboard<1.15.0,>=1.14.0->tensorflow) (3.1.1)\n",
            "Requirement already satisfied: werkzeug>=0.11.15 in /usr/local/lib/python3.6/dist-packages (from tensorboard<1.15.0,>=1.14.0->tensorflow) (0.15.4)\n",
            "Requirement already satisfied: setuptools>=41.0.0 in /usr/local/lib/python3.6/dist-packages (from tensorboard<1.15.0,>=1.14.0->tensorflow) (41.0.1)\n"
          ],
          "name": "stdout"
        }
      ]
    },
    {
      "cell_type": "code",
      "metadata": {
        "id": "sk31VxoDL8mt",
        "colab_type": "code",
        "outputId": "6a478dea-42c4-401e-d50c-65be903c3835",
        "colab": {
          "base_uri": "https://localhost:8080/",
          "height": 125
        }
      },
      "source": [
        "pip install virtualenv"
      ],
      "execution_count": 2,
      "outputs": [
        {
          "output_type": "stream",
          "text": [
            "Collecting virtualenv\n",
            "\u001b[?25l  Downloading https://files.pythonhosted.org/packages/c4/9a/a3f62ac5122a65dec34ad4b5ed8d802633dae4bc06a0fc62e55fe3e96fe1/virtualenv-16.6.1-py2.py3-none-any.whl (2.0MB)\n",
            "\u001b[K     |████████████████████████████████| 2.0MB 2.8MB/s \n",
            "\u001b[?25hInstalling collected packages: virtualenv\n",
            "Successfully installed virtualenv-16.6.1\n"
          ],
          "name": "stdout"
        }
      ]
    },
    {
      "cell_type": "code",
      "metadata": {
        "id": "U3rEjUfSMC-V",
        "colab_type": "code",
        "outputId": "2bb64a25-67e8-44c2-8336-85e327f696e5",
        "colab": {
          "base_uri": "https://localhost:8080/",
          "height": 34
        }
      },
      "source": [
        "cd ~"
      ],
      "execution_count": 3,
      "outputs": [
        {
          "output_type": "stream",
          "text": [
            "/root\n"
          ],
          "name": "stdout"
        }
      ]
    },
    {
      "cell_type": "code",
      "metadata": {
        "id": "kSJCnPpVMPvN",
        "colab_type": "code",
        "colab": {}
      },
      "source": [
        "ls"
      ],
      "execution_count": 0,
      "outputs": []
    },
    {
      "cell_type": "code",
      "metadata": {
        "id": "pIZckqi7MTb9",
        "colab_type": "code",
        "colab": {}
      },
      "source": [
        "mkdir envs"
      ],
      "execution_count": 0,
      "outputs": []
    },
    {
      "cell_type": "code",
      "metadata": {
        "id": "kqSDrsewMoMN",
        "colab_type": "code",
        "outputId": "bf9277dc-a85d-4481-921a-47882e7df869",
        "colab": {
          "base_uri": "https://localhost:8080/",
          "height": 105
        }
      },
      "source": [
        "!virtualenv ~/envs/tensorflow"
      ],
      "execution_count": 6,
      "outputs": [
        {
          "output_type": "stream",
          "text": [
            "Using base prefix '/usr'\n",
            "New python executable in /root/envs/tensorflow/bin/python3\n",
            "Also creating executable in /root/envs/tensorflow/bin/python\n",
            "Installing setuptools, pip, wheel...\n",
            "done.\n"
          ],
          "name": "stdout"
        }
      ]
    },
    {
      "cell_type": "code",
      "metadata": {
        "id": "21ZFcH8vNKBf",
        "colab_type": "code",
        "colab": {}
      },
      "source": [
        "!source ~/envs/tensorflow/bin/activate"
      ],
      "execution_count": 0,
      "outputs": []
    },
    {
      "cell_type": "code",
      "metadata": {
        "id": "c1jTN55uNk0W",
        "colab_type": "code",
        "outputId": "dda52b67-7f87-4a1d-d326-8cdb3ed115c8",
        "colab": {
          "base_uri": "https://localhost:8080/",
          "height": 389
        }
      },
      "source": [
        "pip install tensorflow"
      ],
      "execution_count": 8,
      "outputs": [
        {
          "output_type": "stream",
          "text": [
            "Requirement already satisfied: tensorflow in /usr/local/lib/python3.6/dist-packages (1.14.0)\n",
            "Requirement already satisfied: google-pasta>=0.1.6 in /usr/local/lib/python3.6/dist-packages (from tensorflow) (0.1.7)\n",
            "Requirement already satisfied: tensorflow-estimator<1.15.0rc0,>=1.14.0rc0 in /usr/local/lib/python3.6/dist-packages (from tensorflow) (1.14.0)\n",
            "Requirement already satisfied: wrapt>=1.11.1 in /usr/local/lib/python3.6/dist-packages (from tensorflow) (1.11.2)\n",
            "Requirement already satisfied: wheel>=0.26 in /usr/local/lib/python3.6/dist-packages (from tensorflow) (0.33.4)\n",
            "Requirement already satisfied: absl-py>=0.7.0 in /usr/local/lib/python3.6/dist-packages (from tensorflow) (0.7.1)\n",
            "Requirement already satisfied: keras-applications>=1.0.6 in /usr/local/lib/python3.6/dist-packages (from tensorflow) (1.0.8)\n",
            "Requirement already satisfied: tensorboard<1.15.0,>=1.14.0 in /usr/local/lib/python3.6/dist-packages (from tensorflow) (1.14.0)\n",
            "Requirement already satisfied: numpy<2.0,>=1.14.5 in /usr/local/lib/python3.6/dist-packages (from tensorflow) (1.16.4)\n",
            "Requirement already satisfied: termcolor>=1.1.0 in /usr/local/lib/python3.6/dist-packages (from tensorflow) (1.1.0)\n",
            "Requirement already satisfied: gast>=0.2.0 in /usr/local/lib/python3.6/dist-packages (from tensorflow) (0.2.2)\n",
            "Requirement already satisfied: protobuf>=3.6.1 in /usr/local/lib/python3.6/dist-packages (from tensorflow) (3.7.1)\n",
            "Requirement already satisfied: grpcio>=1.8.6 in /usr/local/lib/python3.6/dist-packages (from tensorflow) (1.15.0)\n",
            "Requirement already satisfied: six>=1.10.0 in /usr/local/lib/python3.6/dist-packages (from tensorflow) (1.12.0)\n",
            "Requirement already satisfied: astor>=0.6.0 in /usr/local/lib/python3.6/dist-packages (from tensorflow) (0.8.0)\n",
            "Requirement already satisfied: keras-preprocessing>=1.0.5 in /usr/local/lib/python3.6/dist-packages (from tensorflow) (1.1.0)\n",
            "Requirement already satisfied: h5py in /usr/local/lib/python3.6/dist-packages (from keras-applications>=1.0.6->tensorflow) (2.8.0)\n",
            "Requirement already satisfied: werkzeug>=0.11.15 in /usr/local/lib/python3.6/dist-packages (from tensorboard<1.15.0,>=1.14.0->tensorflow) (0.15.4)\n",
            "Requirement already satisfied: markdown>=2.6.8 in /usr/local/lib/python3.6/dist-packages (from tensorboard<1.15.0,>=1.14.0->tensorflow) (3.1.1)\n",
            "Requirement already satisfied: setuptools>=41.0.0 in /usr/local/lib/python3.6/dist-packages (from tensorboard<1.15.0,>=1.14.0->tensorflow) (41.0.1)\n"
          ],
          "name": "stdout"
        }
      ]
    },
    {
      "cell_type": "code",
      "metadata": {
        "id": "tGzPIVJmNqoF",
        "colab_type": "code",
        "outputId": "b6e2fd6f-67bd-4b42-ac97-c0e5543fec7c",
        "colab": {
          "base_uri": "https://localhost:8080/",
          "height": 34
        }
      },
      "source": [
        "ls"
      ],
      "execution_count": 9,
      "outputs": [
        {
          "output_type": "stream",
          "text": [
            "\u001b[0m\u001b[01;34menvs\u001b[0m/\n"
          ],
          "name": "stdout"
        }
      ]
    },
    {
      "cell_type": "code",
      "metadata": {
        "id": "5bVQ9OeNN5yc",
        "colab_type": "code",
        "outputId": "178058fe-058d-4c8f-b7f3-0252880504e3",
        "colab": {
          "base_uri": "https://localhost:8080/",
          "height": 34
        }
      },
      "source": [
        "import tensorflow as tf\n",
        "print(tf.__version__)"
      ],
      "execution_count": 10,
      "outputs": [
        {
          "output_type": "stream",
          "text": [
            "1.14.0\n"
          ],
          "name": "stdout"
        }
      ]
    },
    {
      "cell_type": "code",
      "metadata": {
        "id": "XnG0C_bxOYj4",
        "colab_type": "code",
        "colab": {}
      },
      "source": [
        "from tensorflow.examples.tutorials.mnist import input_data"
      ],
      "execution_count": 0,
      "outputs": []
    },
    {
      "cell_type": "code",
      "metadata": {
        "id": "DUJZcf8GVUpD",
        "colab_type": "code",
        "colab": {}
      },
      "source": [
        "DATA_DIR = '/tmp/data'\n",
        "NUM_STEPS = 1000\n",
        "MINIBATCH_SIZE = 100"
      ],
      "execution_count": 0,
      "outputs": []
    },
    {
      "cell_type": "code",
      "metadata": {
        "id": "LAB9x1jHViRU",
        "colab_type": "code",
        "outputId": "cadcb4c5-4e13-403f-9164-0e017dedb9f6",
        "colab": {
          "base_uri": "https://localhost:8080/",
          "height": 565
        }
      },
      "source": [
        "data = input_data.read_data_sets(DATA_DIR, one_hot=True)"
      ],
      "execution_count": 13,
      "outputs": [
        {
          "output_type": "stream",
          "text": [
            "WARNING: Logging before flag parsing goes to stderr.\n",
            "W0714 07:45:49.253166 140558492518272 deprecation.py:323] From <ipython-input-13-e7f1e451c50e>:1: read_data_sets (from tensorflow.contrib.learn.python.learn.datasets.mnist) is deprecated and will be removed in a future version.\n",
            "Instructions for updating:\n",
            "Please use alternatives such as official/mnist/dataset.py from tensorflow/models.\n",
            "W0714 07:45:49.255481 140558492518272 deprecation.py:323] From /usr/local/lib/python3.6/dist-packages/tensorflow/contrib/learn/python/learn/datasets/mnist.py:260: maybe_download (from tensorflow.contrib.learn.python.learn.datasets.base) is deprecated and will be removed in a future version.\n",
            "Instructions for updating:\n",
            "Please write your own downloading logic.\n",
            "W0714 07:45:49.258345 140558492518272 deprecation.py:323] From /usr/local/lib/python3.6/dist-packages/tensorflow/contrib/learn/python/learn/datasets/base.py:252: _internal_retry.<locals>.wrap.<locals>.wrapped_fn (from tensorflow.contrib.learn.python.learn.datasets.base) is deprecated and will be removed in a future version.\n",
            "Instructions for updating:\n",
            "Please use urllib or similar directly.\n",
            "W0714 07:45:49.625054 140558492518272 deprecation.py:323] From /usr/local/lib/python3.6/dist-packages/tensorflow/contrib/learn/python/learn/datasets/mnist.py:262: extract_images (from tensorflow.contrib.learn.python.learn.datasets.mnist) is deprecated and will be removed in a future version.\n",
            "Instructions for updating:\n",
            "Please use tf.data to implement this functionality.\n"
          ],
          "name": "stderr"
        },
        {
          "output_type": "stream",
          "text": [
            "Successfully downloaded train-images-idx3-ubyte.gz 9912422 bytes.\n",
            "Extracting /tmp/data/train-images-idx3-ubyte.gz\n"
          ],
          "name": "stdout"
        },
        {
          "output_type": "stream",
          "text": [
            "W0714 07:45:50.040413 140558492518272 deprecation.py:323] From /usr/local/lib/python3.6/dist-packages/tensorflow/contrib/learn/python/learn/datasets/mnist.py:267: extract_labels (from tensorflow.contrib.learn.python.learn.datasets.mnist) is deprecated and will be removed in a future version.\n",
            "Instructions for updating:\n",
            "Please use tf.data to implement this functionality.\n",
            "W0714 07:45:50.047479 140558492518272 deprecation.py:323] From /usr/local/lib/python3.6/dist-packages/tensorflow/contrib/learn/python/learn/datasets/mnist.py:110: dense_to_one_hot (from tensorflow.contrib.learn.python.learn.datasets.mnist) is deprecated and will be removed in a future version.\n",
            "Instructions for updating:\n",
            "Please use tf.one_hot on tensors.\n"
          ],
          "name": "stderr"
        },
        {
          "output_type": "stream",
          "text": [
            "Successfully downloaded train-labels-idx1-ubyte.gz 28881 bytes.\n",
            "Extracting /tmp/data/train-labels-idx1-ubyte.gz\n",
            "Successfully downloaded t10k-images-idx3-ubyte.gz 1648877 bytes.\n",
            "Extracting /tmp/data/t10k-images-idx3-ubyte.gz\n"
          ],
          "name": "stdout"
        },
        {
          "output_type": "stream",
          "text": [
            "W0714 07:45:50.375870 140558492518272 deprecation.py:323] From /usr/local/lib/python3.6/dist-packages/tensorflow/contrib/learn/python/learn/datasets/mnist.py:290: DataSet.__init__ (from tensorflow.contrib.learn.python.learn.datasets.mnist) is deprecated and will be removed in a future version.\n",
            "Instructions for updating:\n",
            "Please use alternatives such as official/mnist/dataset.py from tensorflow/models.\n"
          ],
          "name": "stderr"
        },
        {
          "output_type": "stream",
          "text": [
            "Successfully downloaded t10k-labels-idx1-ubyte.gz 4542 bytes.\n",
            "Extracting /tmp/data/t10k-labels-idx1-ubyte.gz\n"
          ],
          "name": "stdout"
        }
      ]
    },
    {
      "cell_type": "code",
      "metadata": {
        "id": "lPCq8PkTVuBu",
        "colab_type": "code",
        "outputId": "f1d599a5-ec34-4f17-9a10-a1176de24a14",
        "colab": {
          "base_uri": "https://localhost:8080/",
          "height": 54
        }
      },
      "source": [
        "print(data)"
      ],
      "execution_count": 14,
      "outputs": [
        {
          "output_type": "stream",
          "text": [
            "Datasets(train=<tensorflow.contrib.learn.python.learn.datasets.mnist.DataSet object at 0x7fd6196b3390>, validation=<tensorflow.contrib.learn.python.learn.datasets.mnist.DataSet object at 0x7fd60dbfbb00>, test=<tensorflow.contrib.learn.python.learn.datasets.mnist.DataSet object at 0x7fd60d5729e8>)\n"
          ],
          "name": "stdout"
        }
      ]
    },
    {
      "cell_type": "code",
      "metadata": {
        "id": "RhmTMtqyWIv1",
        "colab_type": "code",
        "outputId": "54fadd3d-0943-4292-bb24-8cc0abc80d19",
        "colab": {
          "base_uri": "https://localhost:8080/",
          "height": 195
        }
      },
      "source": [
        "x = tf.placeholder(tf.float32, [None, 784])\n",
        "W = tf.Variable(tf.zeros([784, 10]))\n",
        "\n",
        "y_true = tf.placeholder(tf.float32, [None, 10])\n",
        "y_pred = tf.matmul(x, W)\n",
        "\n",
        "cross_entropy = tf.reduce_mean(tf.nn.softmax_cross_entropy_with_logits(logits=y_pred, labels=y_true))\n",
        "\n",
        "gd_step = tf.train.GradientDescentOptimizer(0.5).minimize(cross_entropy)\n",
        "\n",
        "correct_mask = tf.equal(tf.argmax(y_pred, 1), tf.argmax(y_true, 1))\n",
        "accuracy = tf.reduce_mean(tf.cast(correct_mask, tf.float32))\n",
        "\n",
        "with tf.Session() as sess:\n",
        "  \n",
        "  #Train\n",
        "  sess.run(tf.global_variables_initializer())\n",
        "  \n",
        "  for _ in range(NUM_STEPS):\n",
        "    batch_xs, batch_ys = data.train.next_batch(MINIBATCH_SIZE)\n",
        "    sess.run(gd_step, feed_dict={x: batch_xs, y_true: batch_ys})\n",
        "    \n",
        "  #Test\n",
        "  ans = sess.run(accuracy, feed_dict={x: data.test.images, y_true: data.test.labels})\n",
        "  \n",
        "  print(\"Genauigkeit: {:.4}%\".format(ans*100))\n",
        "\n"
      ],
      "execution_count": 15,
      "outputs": [
        {
          "output_type": "stream",
          "text": [
            "W0714 07:45:50.758857 140558492518272 deprecation.py:323] From <ipython-input-15-0f82147eaf58>:7: softmax_cross_entropy_with_logits (from tensorflow.python.ops.nn_ops) is deprecated and will be removed in a future version.\n",
            "Instructions for updating:\n",
            "\n",
            "Future major versions of TensorFlow will allow gradients to flow\n",
            "into the labels input on backprop by default.\n",
            "\n",
            "See `tf.nn.softmax_cross_entropy_with_logits_v2`.\n",
            "\n"
          ],
          "name": "stderr"
        },
        {
          "output_type": "stream",
          "text": [
            "Genauigkeit: 91.59%\n"
          ],
          "name": "stdout"
        }
      ]
    },
    {
      "cell_type": "code",
      "metadata": {
        "id": "2mJo3pi22yz0",
        "colab_type": "code",
        "outputId": "6c578514-fb07-4850-833a-1bf48ffabec8",
        "colab": {
          "base_uri": "https://localhost:8080/",
          "height": 34
        }
      },
      "source": [
        "a = tf.constant(5.0)\n",
        "b = tf.constant(7.0)\n",
        "\n",
        "c = tf.multiply(a,b)\n",
        "d = tf.sin(c)\n",
        "e = tf.divide(b,d)\n",
        "\n",
        "sess = tf.Session()\n",
        "outs = sess.run(e)\n",
        "sess.close()\n",
        "print(\"Ausgaben = {}\".format(outs))"
      ],
      "execution_count": 16,
      "outputs": [
        {
          "output_type": "stream",
          "text": [
            "Ausgaben = -16.348163604736328\n"
          ],
          "name": "stdout"
        }
      ]
    },
    {
      "cell_type": "code",
      "metadata": {
        "id": "tpOxPQgCsLF8",
        "colab_type": "code",
        "outputId": "0521a270-1604-40a7-bb7c-224a88ddc867",
        "colab": {
          "base_uri": "https://localhost:8080/",
          "height": 52
        }
      },
      "source": [
        "g = tf.Graph()\n",
        "a = tf.constant(5)\n",
        "\n",
        "print(a.graph is g)\n",
        "print(a.graph is tf.get_default_graph())"
      ],
      "execution_count": 17,
      "outputs": [
        {
          "output_type": "stream",
          "text": [
            "False\n",
            "True\n"
          ],
          "name": "stdout"
        }
      ]
    },
    {
      "cell_type": "code",
      "metadata": {
        "id": "3qAYyM0AtvO4",
        "colab_type": "code",
        "colab": {
          "base_uri": "https://localhost:8080/",
          "height": 70
        },
        "outputId": "c93b37b1-293b-4cdf-87e9-ef0d1c9de889"
      },
      "source": [
        "g1 = tf.get_default_graph()\n",
        "g2 = tf.Graph()\n",
        "\n",
        "print(g1 is tf.get_default_graph())\n",
        "\n",
        "with g2.as_default():\n",
        "  print(g1 is tf.get_default_graph())\n",
        "  \n",
        "print(g1 is tf.get_default_graph())"
      ],
      "execution_count": 18,
      "outputs": [
        {
          "output_type": "stream",
          "text": [
            "True\n",
            "False\n",
            "True\n"
          ],
          "name": "stdout"
        }
      ]
    },
    {
      "cell_type": "code",
      "metadata": {
        "id": "oVvu9yYfuyEq",
        "colab_type": "code",
        "outputId": "5a3c2e18-456d-4e53-97ba-aa663b79885e",
        "colab": {
          "base_uri": "https://localhost:8080/",
          "height": 52
        }
      },
      "source": [
        "a = tf.constant(5)\n",
        "b = tf.constant(2)\n",
        "c = tf.constant(3)\n",
        "\n",
        "d = tf.multiply(a,b)\n",
        "e = tf.add(c,b)\n",
        "f = tf.subtract(d,e)\n",
        "\n",
        "with tf.Session() as sess:\n",
        "  fetches = [a,b,c,d,e,f]\n",
        "  outs = sess.run(fetches)\n",
        "  \n",
        "print(\"Ausgaben = {}\".format(outs))\n",
        "print(type(outs[0]))"
      ],
      "execution_count": 19,
      "outputs": [
        {
          "output_type": "stream",
          "text": [
            "Ausgaben = [5, 2, 3, 10, 5, 5]\n",
            "<class 'numpy.int32'>\n"
          ],
          "name": "stdout"
        }
      ]
    },
    {
      "cell_type": "code",
      "metadata": {
        "id": "aEy6yD0T6YgD",
        "colab_type": "code",
        "outputId": "0cb7ea31-30b7-4cc3-d920-5a722333b93b",
        "colab": {
          "base_uri": "https://localhost:8080/",
          "height": 52
        }
      },
      "source": [
        "import numpy as np\n",
        "\n",
        "c = tf.constant([[1.0,2,3],\n",
        "                 [4,5,6]])\n",
        "\n",
        "print(\"Eingabewerte aus Python-Liste: {}\".format(c.get_shape()))\n",
        "\n",
        "c = tf.constant(np.array([\n",
        "    [[1,2,3],\n",
        "     [4,5,6]],\n",
        "    [[1,1,1],\n",
        "     [2,2,2]]\n",
        "    ]))\n",
        "\n",
        "print(\"Eingabewerte aus 3D-NumPy-Feld: {}\".format(c.get_shape()))"
      ],
      "execution_count": 20,
      "outputs": [
        {
          "output_type": "stream",
          "text": [
            "Eingabewerte aus Python-Liste: (2, 3)\n",
            "Eingabewerte aus 3D-NumPy-Feld: (2, 2, 3)\n"
          ],
          "name": "stdout"
        }
      ]
    },
    {
      "cell_type": "code",
      "metadata": {
        "id": "_mgDhDmE9M8X",
        "colab_type": "code",
        "outputId": "d8621f74-999b-4954-e4b2-ee30bd02cb93",
        "colab": {
          "base_uri": "https://localhost:8080/",
          "height": 70
        }
      },
      "source": [
        "sess = tf.InteractiveSession()\n",
        "c = tf.linspace(0.0, 4.0, 9)\n",
        "print(\"Inhalt von 'c':\\n {}\\n\".format(c.eval()))\n",
        "sess.close()"
      ],
      "execution_count": 21,
      "outputs": [
        {
          "output_type": "stream",
          "text": [
            "Inhalt von 'c':\n",
            " [0.  0.5 1.  1.5 2.  2.5 3.  3.5 4. ]\n",
            "\n"
          ],
          "name": "stdout"
        }
      ]
    },
    {
      "cell_type": "code",
      "metadata": {
        "id": "TzbfuHJR_AiZ",
        "colab_type": "code",
        "outputId": "cad89517-6d0d-4b2f-aab2-eb98ad108417",
        "colab": {
          "base_uri": "https://localhost:8080/",
          "height": 158
        }
      },
      "source": [
        "A = tf.constant([[1,2,3],[4,5,6]])\n",
        "print(A.get_shape())\n",
        "\n",
        "x = tf.constant([1,0,1])\n",
        "print(x.get_shape())\n",
        "\n",
        "x = tf.expand_dims(x,1)\n",
        "print(x.get_shape())\n",
        "\n",
        "sess = tf.InteractiveSession()\n",
        "print(x.eval())\n",
        "sess.close()\n",
        "\n",
        "b = tf.matmul(A,x)\n",
        "\n",
        "sess = tf.InteractiveSession()\n",
        "print(b.eval())\n",
        "sess.close()"
      ],
      "execution_count": 29,
      "outputs": [
        {
          "output_type": "stream",
          "text": [
            "(2, 3)\n",
            "(3,)\n",
            "(3, 1)\n",
            "[[1]\n",
            " [0]\n",
            " [1]]\n",
            "[[ 4]\n",
            " [10]]\n"
          ],
          "name": "stdout"
        }
      ]
    },
    {
      "cell_type": "code",
      "metadata": {
        "id": "MvGM-M-JgIzB",
        "colab_type": "code",
        "colab": {
          "base_uri": "https://localhost:8080/",
          "height": 52
        },
        "outputId": "2384d05d-ad6a-41eb-da52-9401b176db8f"
      },
      "source": [
        "with tf.Graph().as_default():\n",
        "  c1 = tf.constant(4,dtype=tf.float64,name='c')\n",
        "  c2 = tf.constant(4,dtype=tf.int32,name='c')\n",
        "print(c1.name)\n",
        "print(c2.name)"
      ],
      "execution_count": 32,
      "outputs": [
        {
          "output_type": "stream",
          "text": [
            "c:0\n",
            "c_1:0\n"
          ],
          "name": "stdout"
        }
      ]
    },
    {
      "cell_type": "code",
      "metadata": {
        "id": "BwtrIr2-i07X",
        "colab_type": "code",
        "colab": {}
      },
      "source": [
        "with tf.Graph().as_default():\n",
        "  c1 = tf.constant(4,dtype=tf.float64,name='c')\n",
        "  with tf.name_scope(\"prefix_name\"):\n",
        "    c2 = tf.constant(4,dtype=tf.float64,name='c')\n",
        "    c3 = tf.constant(4,dtype=tf.float64,name='c')\n",
        "    c4 = tf.multiply(c2,c3)\n",
        "    \n",
        "  with tf.Session() as sess:\n",
        "    outs = sess.run(c4)\n",
        "  \n",
        "print(outs)\n",
        "print(c1.name)\n",
        "print(c2.name)\n",
        "print(c3.name)\n"
      ],
      "execution_count": 0,
      "outputs": []
    },
    {
      "cell_type": "code",
      "metadata": {
        "id": "9jyBW72CpFLR",
        "colab_type": "code",
        "colab": {
          "base_uri": "https://localhost:8080/",
          "height": 105
        },
        "outputId": "9f3c64de-8afd-4624-d70c-79956fa3ca07"
      },
      "source": [
        "init_val = tf.random_normal((1,5),0,1)\n",
        "var = tf.Variable(init_val, name='var')\n",
        "print(\"vor run (): \\n{}\".format(var))\n",
        "\n",
        "init = tf.global_variables_initializer()\n",
        "with tf.Session() as sess:\n",
        "  sess.run(init)\n",
        "  post_var = sess.run(var)\n",
        "  \n",
        "print(\"\\nnach run (): \\n{}\".format(post_var))"
      ],
      "execution_count": 55,
      "outputs": [
        {
          "output_type": "stream",
          "text": [
            "vor run (): \n",
            "<tf.Variable 'var_12:0' shape=(1, 5) dtype=float32_ref>\n",
            "\n",
            "nach run (): \n",
            "[[-1.2176148   1.7634599  -0.75645167 -1.2732797  -0.98598814]]\n"
          ],
          "name": "stdout"
        }
      ]
    },
    {
      "cell_type": "code",
      "metadata": {
        "id": "-mumk5qCvU4r",
        "colab_type": "code",
        "colab": {
          "base_uri": "https://localhost:8080/",
          "height": 34
        },
        "outputId": "d7286bc2-b86f-4133-8de7-0cc1a5995c20"
      },
      "source": [
        "x_data = np.random.randn(5,10)\n",
        "w_data = np.random.randn(10,1)\n",
        "\n",
        "with tf.Graph().as_default():\n",
        "  x = tf.placeholder(tf.float32, shape=(5,10))\n",
        "  w = tf.placeholder(tf.float32, shape=(10,1))\n",
        "  b = tf.fill((5,1),-1.)\n",
        "  xw = tf.matmul(x,w)\n",
        "  \n",
        "  xwb = xw + b\n",
        "  s = tf.reduce_max(xwb)\n",
        "  with tf.Session() as sess:\n",
        "    outs = sess.run(s,feed_dict={x: x_data, w: w_data})\n",
        "    \n",
        "print(\"Ausgaben = {}\".format(outs))"
      ],
      "execution_count": 64,
      "outputs": [
        {
          "output_type": "stream",
          "text": [
            "Ausgaben = 0.6072272062301636\n"
          ],
          "name": "stdout"
        }
      ]
    },
    {
      "cell_type": "code",
      "metadata": {
        "id": "DK-gK3hx1xMq",
        "colab_type": "code",
        "colab": {
          "base_uri": "https://localhost:8080/",
          "height": 105
        },
        "outputId": "f2679770-0952-4416-87bd-6bccf78077fa"
      },
      "source": [
        "!git clone https://github.com/seraj94ai/Train-Object-Detection-Classifier.git"
      ],
      "execution_count": 66,
      "outputs": [
        {
          "output_type": "stream",
          "text": [
            "Cloning into 'Train-Object-Detection-Classifier'...\n",
            "remote: Enumerating objects: 482, done.\u001b[K\n",
            "remote: Total 482 (delta 0), reused 0 (delta 0), pack-reused 482\n",
            "Receiving objects: 100% (482/482), 30.90 MiB | 38.22 MiB/s, done.\n",
            "Resolving deltas: 100% (234/234), done.\n"
          ],
          "name": "stdout"
        }
      ]
    },
    {
      "cell_type": "code",
      "metadata": {
        "id": "5MGrDqab2K_F",
        "colab_type": "code",
        "colab": {
          "base_uri": "https://localhost:8080/",
          "height": 34
        },
        "outputId": "e5d488e4-11e6-41b6-9e49-4643b73cc537"
      },
      "source": [
        "cd Train-Object-Detection-Classifier"
      ],
      "execution_count": 67,
      "outputs": [
        {
          "output_type": "stream",
          "text": [
            "/root/Train-Object-Detection-Classifier\n"
          ],
          "name": "stdout"
        }
      ]
    },
    {
      "cell_type": "code",
      "metadata": {
        "id": "lNP7gYpF2dlm",
        "colab_type": "code",
        "colab": {
          "base_uri": "https://localhost:8080/",
          "height": 308
        },
        "outputId": "6eb0d565-032e-48e8-8bb7-99ad5a7163ff"
      },
      "source": [
        "import utils"
      ],
      "execution_count": 70,
      "outputs": [
        {
          "output_type": "error",
          "ename": "ModuleNotFoundError",
          "evalue": "ignored",
          "traceback": [
            "\u001b[0;31m---------------------------------------------------------------------------\u001b[0m",
            "\u001b[0;31mModuleNotFoundError\u001b[0m                       Traceback (most recent call last)",
            "\u001b[0;32m<ipython-input-70-69d9c258b31d>\u001b[0m in \u001b[0;36m<module>\u001b[0;34m()\u001b[0m\n\u001b[0;32m----> 1\u001b[0;31m \u001b[0;32mimport\u001b[0m \u001b[0mutils\u001b[0m\u001b[0;34m\u001b[0m\u001b[0;34m\u001b[0m\u001b[0m\n\u001b[0m",
            "\u001b[0;31mModuleNotFoundError\u001b[0m: No module named 'utils'",
            "",
            "\u001b[0;31m---------------------------------------------------------------------------\u001b[0;32m\nNOTE: If your import is failing due to a missing package, you can\nmanually install dependencies using either !pip or !apt.\n\nTo view examples of installing some common dependencies, click the\n\"Open Examples\" button below.\n\u001b[0;31m---------------------------------------------------------------------------\u001b[0m\n"
          ]
        }
      ]
    },
    {
      "cell_type": "code",
      "metadata": {
        "id": "8s8QarV22T6F",
        "colab_type": "code",
        "colab": {
          "base_uri": "https://localhost:8080/",
          "height": 87
        },
        "outputId": "43bc035d-8616-4b73-c1a1-25fc9efb1c88"
      },
      "source": [
        "!python3 Object_detection_image.py"
      ],
      "execution_count": 69,
      "outputs": [
        {
          "output_type": "stream",
          "text": [
            "Traceback (most recent call last):\n",
            "  File \"Object_detection_image.py\", line 29, in <module>\n",
            "    from utils import label_map_util\n",
            "ModuleNotFoundError: No module named 'utils'\n"
          ],
          "name": "stdout"
        }
      ]
    }
  ]
}