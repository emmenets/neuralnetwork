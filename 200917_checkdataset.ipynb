{
  "nbformat": 4,
  "nbformat_minor": 0,
  "metadata": {
    "colab": {
      "name": "zugriffrasenvideo.ipynb",
      "provenance": [],
      "collapsed_sections": [],
      "include_colab_link": true
    },
    "kernelspec": {
      "name": "python3",
      "display_name": "Python 3"
    }
  },
  "cells": [
    {
      "cell_type": "markdown",
      "metadata": {
        "id": "view-in-github",
        "colab_type": "text"
      },
      "source": [
        "<a href=\"https://colab.research.google.com/github/emmenets/neuralnetwork/blob/master/200917_checkdataset.ipynb\" target=\"_parent\"><img src=\"https://colab.research.google.com/assets/colab-badge.svg\" alt=\"Open In Colab\"/></a>"
      ]
    },
    {
      "cell_type": "code",
      "metadata": {
        "id": "cqgAkxabRCcM",
        "colab_type": "code",
        "colab": {
          "base_uri": "https://localhost:8080/",
          "height": 34
        },
        "outputId": "1602e414-8ab9-48e1-9893-2c3721c5925f"
      },
      "source": [
        "from google.colab.patches import cv2_imshow\n",
        "import numpy as np\n",
        "import cv2\n",
        "import imutils\n",
        "\n",
        "from IPython.display import display, Javascript\n",
        "from google.colab.output import eval_js\n",
        "from base64 import b64decode\n",
        "from IPython.display import Image\n",
        "from IPython.display import clear_output\n",
        "import urllib\n",
        "import time\n",
        "\n",
        "\n",
        "from google.colab import drive\n",
        "drive.mount('/gdrive')"
      ],
      "execution_count": 1,
      "outputs": [
        {
          "output_type": "stream",
          "text": [
            "Mounted at /gdrive\n"
          ],
          "name": "stdout"
        }
      ]
    },
    {
      "cell_type": "code",
      "metadata": {
        "id": "NutrjxV-3EQH",
        "colab_type": "code",
        "colab": {}
      },
      "source": [
        "import csv\n",
        "import imutils\n",
        "with open('/gdrive/My Drive/colabfiles/dataset/20200917/test_labels.csv', newline='') as csvfile:\n",
        "  reader = csv.DictReader(csvfile)\n",
        "  for row in reader:\n",
        "    filename = row['filename']\n",
        "    klasse = row['class']\n",
        "    xmin = int(row['xmin'])\n",
        "    ymin = int(row['ymin'])\n",
        "    xmax = int(row['xmax'])\n",
        "    ymax = int(row['ymax'])\n",
        "    image = cv2.imread('/gdrive/My Drive/colabfiles/dataset/20200917/test/'+filename)\n",
        "    cv2.rectangle(image,(xmin,ymin),(xmax,ymax),(0,255,0),1)\n",
        "    image = imutils.resize(image, 400)\n",
        "    cv2_imshow(image)\n",
        "    print(filename)\n",
        "    time.sleep(1)\n",
        "    clear_output()"
      ],
      "execution_count": 3,
      "outputs": []
    }
  ]
}