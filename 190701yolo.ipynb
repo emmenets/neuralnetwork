{
  "nbformat": 4,
  "nbformat_minor": 0,
  "metadata": {
    "colab": {
      "name": "190510facetracking.ipynb",
      "version": "0.3.2",
      "provenance": [],
      "collapsed_sections": [],
      "include_colab_link": true
    },
    "kernelspec": {
      "name": "python3",
      "display_name": "Python 3"
    },
    "accelerator": "GPU"
  },
  "cells": [
    {
      "cell_type": "markdown",
      "metadata": {
        "id": "view-in-github",
        "colab_type": "text"
      },
      "source": [
        "<a href=\"https://colab.research.google.com/github/emmenets/neuralnetwork/blob/master/190701yolo.ipynb\" target=\"_parent\"><img src=\"https://colab.research.google.com/assets/colab-badge.svg\" alt=\"Open In Colab\"/></a>"
      ]
    },
    {
      "cell_type": "code",
      "metadata": {
        "id": "cqgAkxabRCcM",
        "colab_type": "code",
        "outputId": "968d21a5-9911-404a-dead-9aa671c91316",
        "colab": {
          "base_uri": "https://localhost:8080/",
          "height": 124
        }
      },
      "source": [
        "from google.colab.patches import cv2_imshow\n",
        "import numpy as np\n",
        "import cv2\n",
        "import imutils\n",
        "\n",
        "\n",
        "from IPython.display import display, Javascript\n",
        "\n",
        "import os, sys\n",
        "from google.colab import drive\n",
        "drive.mount('/gdrive')"
      ],
      "execution_count": 1,
      "outputs": [
        {
          "output_type": "stream",
          "text": [
            "Go to this URL in a browser: https://accounts.google.com/o/oauth2/auth?client_id=947318989803-6bn6qk8qdgf4n4g3pfee6491hc0brc4i.apps.googleusercontent.com&redirect_uri=urn%3Aietf%3Awg%3Aoauth%3A2.0%3Aoob&scope=email%20https%3A%2F%2Fwww.googleapis.com%2Fauth%2Fdocs.test%20https%3A%2F%2Fwww.googleapis.com%2Fauth%2Fdrive%20https%3A%2F%2Fwww.googleapis.com%2Fauth%2Fdrive.photos.readonly%20https%3A%2F%2Fwww.googleapis.com%2Fauth%2Fpeopleapi.readonly&response_type=code\n",
            "\n",
            "Enter your authorization code:\n",
            "··········\n",
            "Mounted at /gdrive\n"
          ],
          "name": "stdout"
        }
      ]
    },
    {
      "cell_type": "code",
      "metadata": {
        "id": "qz7wPBCYaLMH",
        "colab_type": "code",
        "colab": {}
      },
      "source": [
        "rm -rf /gdrive/My\\ Drive/colabfiles/yolo3/"
      ],
      "execution_count": 0,
      "outputs": []
    },
    {
      "cell_type": "code",
      "metadata": {
        "id": "HYNAIIvhWKW3",
        "colab_type": "code",
        "colab": {}
      },
      "source": [
        "!mkdir /gdrive/My\\ Drive/colabfiles/yolo3/"
      ],
      "execution_count": 0,
      "outputs": []
    },
    {
      "cell_type": "markdown",
      "metadata": {
        "id": "RUj5Xg53QCHm",
        "colab_type": "text"
      },
      "source": [
        "Ordner erstellen"
      ]
    },
    {
      "cell_type": "code",
      "metadata": {
        "id": "Ma2cLDMnmIut",
        "colab_type": "code",
        "outputId": "d8ad842b-b4f8-4ef4-fb37-9f183bef28d0",
        "colab": {
          "base_uri": "https://localhost:8080/",
          "height": 35
        }
      },
      "source": [
        "cd /gdrive/My\\ Drive/colabfiles/yolo3/\n"
      ],
      "execution_count": 4,
      "outputs": [
        {
          "output_type": "stream",
          "text": [
            "/gdrive/My Drive/colabfiles/yolo3\n"
          ],
          "name": "stdout"
        }
      ]
    },
    {
      "cell_type": "code",
      "metadata": {
        "id": "lwO-y1_pZIiZ",
        "colab_type": "code",
        "colab": {}
      },
      "source": [
        "!wget https://pjreddie.com/media/files/yolov3.weights"
      ],
      "execution_count": 0,
      "outputs": []
    },
    {
      "cell_type": "code",
      "metadata": {
        "id": "BPW_W31kbK0b",
        "colab_type": "code",
        "colab": {}
      },
      "source": [
        "net = cv2.dnn.readNet(\"yolov3.weights\", \"yolov3.cfg\")\n",
        "classes = []\n",
        "with open(\"coco.names\", \"r\") as f:\n",
        "  classes = [line.strip() for line in f.readlines()]\n",
        "  \n",
        "layer_names = net.getLayerNames()\n",
        "output_layers = [layer_names[i[0]-1] for i in net.getUnconnectedOutLayers()]\n",
        "  \n",
        "print(classes)\n",
        "\n",
        "img = cv2.imread(\"person.jpg\")\n",
        "height, width, channels = img.shape\n",
        "\n",
        "\n",
        "blob = cv2.dnn.blobFromImage(img, 0.00392, (416, 416), (0,0,0), True, crop=False)\n",
        "\n",
        "net.setInput(blob)\n",
        "outs = net.forward(output_layers)\n",
        "\n",
        "#showing information on the screen\n",
        "for out in outs:\n",
        "  for detection in out:\n",
        "    scores = detection[5:]\n",
        "    class_id = np.argmax(scores)\n",
        "    confidence = scores[class_id]\n",
        "    if confidence > 0.5:\n",
        "      #object detected\n",
        "      center_x = int(detection[0] * width)\n",
        "      center_y = int(detection[1] * height)\n",
        "      w = int(detection[2] * width)\n",
        "      h = int(detection[3] * height)\n",
        "      \n",
        "      #Rectangle Coordinates\n",
        "      x = int(center_x - w / 2)\n",
        "      y = int(center_y - h / 2)\n",
        "      cv2. rectangle(img, (x, y), (x + w, y + h), (0, 255, 0), 2)\n",
        "      \n",
        "      \n",
        "      \n",
        "\n",
        "\n",
        "cv2_imshow(img)"
      ],
      "execution_count": 0,
      "outputs": []
    },
    {
      "cell_type": "code",
      "metadata": {
        "id": "WV1FXOBstM2I",
        "colab_type": "code",
        "colab": {}
      },
      "source": [
        "cp /gdrive/My\\ Drive/colabfiles/yolo/darknet/data/person.jpg /gdrive/My\\ Drive/colabfiles/yolo3"
      ],
      "execution_count": 0,
      "outputs": []
    },
    {
      "cell_type": "code",
      "metadata": {
        "id": "TCXLPaEyuiDd",
        "colab_type": "code",
        "colab": {}
      },
      "source": [
        "cp /gdrive/My\\ Drive/colabfiles/yolo/darknet/data/coco.names /gdrive/My\\ Drive/colabfiles/yolo3"
      ],
      "execution_count": 0,
      "outputs": []
    },
    {
      "cell_type": "code",
      "metadata": {
        "id": "xECq28Clg_We",
        "colab_type": "code",
        "outputId": "5ab05743-f60f-403c-e3d5-a051d9dbb0e5",
        "colab": {
          "base_uri": "https://localhost:8080/",
          "height": 35
        }
      },
      "source": [
        "ls"
      ],
      "execution_count": 15,
      "outputs": [
        {
          "output_type": "stream",
          "text": [
            "coco.names  person.jpg  yolov3.cfg  yolov3.weights\n"
          ],
          "name": "stdout"
        }
      ]
    },
    {
      "cell_type": "markdown",
      "metadata": {
        "id": "p0Wlv7jDMJS6",
        "colab_type": "text"
      },
      "source": [
        "Verzeichnis löschen"
      ]
    },
    {
      "cell_type": "code",
      "metadata": {
        "id": "_7PDzGI9UyL6",
        "colab_type": "code",
        "colab": {}
      },
      "source": [
        "path =\"/gdrive/My Drive/colabfiles/rcnnopencv/\"\n",
        "tf.gfile.DeleteRecursively(path)"
      ],
      "execution_count": 0,
      "outputs": []
    }
  ]
}