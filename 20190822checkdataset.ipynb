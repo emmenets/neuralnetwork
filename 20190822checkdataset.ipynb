{
  "nbformat": 4,
  "nbformat_minor": 0,
  "metadata": {
    "colab": {
      "name": "zugriffrasenvideo.ipynb",
      "version": "0.3.2",
      "provenance": [],
      "collapsed_sections": [],
      "include_colab_link": true
    },
    "kernelspec": {
      "name": "python3",
      "display_name": "Python 3"
    }
  },
  "cells": [
    {
      "cell_type": "markdown",
      "metadata": {
        "id": "view-in-github",
        "colab_type": "text"
      },
      "source": [
        "<a href=\"https://colab.research.google.com/github/emmenets/neuralnetwork/blob/master/20190822checkdataset.ipynb\" target=\"_parent\"><img src=\"https://colab.research.google.com/assets/colab-badge.svg\" alt=\"Open In Colab\"/></a>"
      ]
    },
    {
      "cell_type": "code",
      "metadata": {
        "id": "cqgAkxabRCcM",
        "colab_type": "code",
        "outputId": "cc4e42f3-d80b-4db9-ba85-fadc1eb8a2e2",
        "colab": {
          "base_uri": "https://localhost:8080/",
          "height": 120
        }
      },
      "source": [
        "from google.colab.patches import cv2_imshow\n",
        "import numpy as np\n",
        "import cv2\n",
        "import imutils\n",
        "\n",
        "from IPython.display import display, Javascript\n",
        "from google.colab.output import eval_js\n",
        "from base64 import b64decode\n",
        "from IPython.display import Image\n",
        "from IPython.display import clear_output\n",
        "import urllib\n",
        "import time\n",
        "\n",
        "\n",
        "from google.colab import drive\n",
        "drive.mount('/gdrive')"
      ],
      "execution_count": 1,
      "outputs": [
        {
          "output_type": "stream",
          "text": [
            "Go to this URL in a browser: https://accounts.google.com/o/oauth2/auth?client_id=947318989803-6bn6qk8qdgf4n4g3pfee6491hc0brc4i.apps.googleusercontent.com&redirect_uri=urn%3Aietf%3Awg%3Aoauth%3A2.0%3Aoob&scope=email%20https%3A%2F%2Fwww.googleapis.com%2Fauth%2Fdocs.test%20https%3A%2F%2Fwww.googleapis.com%2Fauth%2Fdrive%20https%3A%2F%2Fwww.googleapis.com%2Fauth%2Fdrive.photos.readonly%20https%3A%2F%2Fwww.googleapis.com%2Fauth%2Fpeopleapi.readonly&response_type=code\n",
            "\n",
            "Enter your authorization code:\n",
            "··········\n",
            "Mounted at /gdrive\n"
          ],
          "name": "stdout"
        }
      ]
    },
    {
      "cell_type": "code",
      "metadata": {
        "id": "NutrjxV-3EQH",
        "colab_type": "code",
        "colab": {}
      },
      "source": [
        "import csv\n",
        "import imutils\n",
        "with open('/gdrive/My Drive/colabfiles/lektion31/test_labels.csv', newline='') as csvfile:\n",
        "  reader = csv.DictReader(csvfile)\n",
        "  for row in reader:\n",
        "    filename = row['filename']\n",
        "    klasse = row['class']\n",
        "    xmin = int(row['xmin'])\n",
        "    ymin = int(row['ymin'])\n",
        "    xmax = int(row['xmax'])\n",
        "    ymax = int(row['ymax'])\n",
        "    image = cv2.imread('/gdrive/My Drive/colabfiles/lektion31/images/test/'+filename)\n",
        "    cv2.rectangle(image,(xmin,ymin),(xmax,ymax),(0,255,0),1)\n",
        "    image = imutils.resize(image, 400)\n",
        "    cv2_imshow(image)\n",
        "    time.sleep(1)\n",
        "    clear_output()"
      ],
      "execution_count": 0,
      "outputs": []
    }
  ]
}