{
  "nbformat": 4,
  "nbformat_minor": 0,
  "metadata": {
    "colab": {
      "name": "190510facetracking.ipynb",
      "version": "0.3.2",
      "provenance": [],
      "collapsed_sections": [],
      "include_colab_link": true
    },
    "kernelspec": {
      "name": "python3",
      "display_name": "Python 3"
    },
    "accelerator": "GPU"
  },
  "cells": [
    {
      "cell_type": "markdown",
      "metadata": {
        "id": "view-in-github",
        "colab_type": "text"
      },
      "source": [
        "<a href=\"https://colab.research.google.com/github/emmenets/neuralnetwork/blob/master/190708yolo.ipynb\" target=\"_parent\"><img src=\"https://colab.research.google.com/assets/colab-badge.svg\" alt=\"Open In Colab\"/></a>"
      ]
    },
    {
      "cell_type": "code",
      "metadata": {
        "id": "cqgAkxabRCcM",
        "colab_type": "code",
        "outputId": "fd5f2b27-e918-4d6d-efac-890ac0cbe730",
        "colab": {
          "base_uri": "https://localhost:8080/",
          "height": 118
        }
      },
      "source": [
        "from google.colab.patches import cv2_imshow\n",
        "import numpy as np\n",
        "import cv2\n",
        "import imutils\n",
        "from google.colab.output import eval_js\n",
        "from IPython.display import clear_output\n",
        "import urllib\n",
        "import time\n",
        "\n",
        "from IPython.display import display, Javascript\n",
        "\n",
        "import os, sys\n",
        "from google.colab import drive\n",
        "drive.mount('/gdrive')"
      ],
      "execution_count": 1,
      "outputs": [
        {
          "output_type": "stream",
          "text": [
            "Go to this URL in a browser: https://accounts.google.com/o/oauth2/auth?client_id=947318989803-6bn6qk8qdgf4n4g3pfee6491hc0brc4i.apps.googleusercontent.com&redirect_uri=urn%3Aietf%3Awg%3Aoauth%3A2.0%3Aoob&scope=email%20https%3A%2F%2Fwww.googleapis.com%2Fauth%2Fdocs.test%20https%3A%2F%2Fwww.googleapis.com%2Fauth%2Fdrive%20https%3A%2F%2Fwww.googleapis.com%2Fauth%2Fdrive.photos.readonly%20https%3A%2F%2Fwww.googleapis.com%2Fauth%2Fpeopleapi.readonly&response_type=code\n",
            "\n",
            "Enter your authorization code:\n",
            "··········\n",
            "Mounted at /gdrive\n"
          ],
          "name": "stdout"
        }
      ]
    },
    {
      "cell_type": "code",
      "metadata": {
        "id": "qz7wPBCYaLMH",
        "colab_type": "code",
        "colab": {}
      },
      "source": [
        "rm -rf /gdrive/My\\ Drive/colabfiles/yolo3/"
      ],
      "execution_count": 0,
      "outputs": []
    },
    {
      "cell_type": "code",
      "metadata": {
        "id": "HYNAIIvhWKW3",
        "colab_type": "code",
        "colab": {}
      },
      "source": [
        "!mkdir /gdrive/My\\ Drive/colabfiles/yolo3/"
      ],
      "execution_count": 0,
      "outputs": []
    },
    {
      "cell_type": "markdown",
      "metadata": {
        "id": "RUj5Xg53QCHm",
        "colab_type": "text"
      },
      "source": [
        "Ordner erstellen"
      ]
    },
    {
      "cell_type": "code",
      "metadata": {
        "id": "Ma2cLDMnmIut",
        "colab_type": "code",
        "outputId": "c13cfe70-c36d-41b7-d1f7-37da15be64ba",
        "colab": {
          "base_uri": "https://localhost:8080/",
          "height": 33
        }
      },
      "source": [
        "cd /gdrive/My\\ Drive/colabfiles/yolo3/\n"
      ],
      "execution_count": 2,
      "outputs": [
        {
          "output_type": "stream",
          "text": [
            "/gdrive/My Drive/colabfiles/yolo3\n"
          ],
          "name": "stdout"
        }
      ]
    },
    {
      "cell_type": "code",
      "metadata": {
        "id": "lwO-y1_pZIiZ",
        "colab_type": "code",
        "colab": {}
      },
      "source": [
        "!wget https://pjreddie.com/media/files/yolov3.weights"
      ],
      "execution_count": 0,
      "outputs": []
    },
    {
      "cell_type": "code",
      "metadata": {
        "id": "IQmbYU87huQ1",
        "colab_type": "code",
        "colab": {}
      },
      "source": [
        "def take_photo(filename='photo.jpg', quality=0.2):\n",
        "  js = Javascript('''\n",
        "    async function takePhoto(quality) {\n",
        "      const div = document.createElement('div');\n",
        "\n",
        "      const video = document.createElement('video');\n",
        "      video.style.display = 'block';\n",
        "      const stream = await navigator.mediaDevices.getUserMedia({video: true});\n",
        "\n",
        "      document.body.appendChild(div);\n",
        "      div.appendChild(video);\n",
        "      video.srcObject = stream;\n",
        "      await video.play();\n",
        "\n",
        "      // Resize the output to fit the video element.\n",
        "      google.colab.output.setIframeHeight(document.documentElement.scrollHeight, true);\n",
        "\n",
        "      const canvas = document.createElement('canvas');\n",
        "      canvas.width = video.videoWidth;\n",
        "      canvas.height = video.videoHeight;\n",
        "      canvas.getContext('2d').drawImage(video, 0, 0);\n",
        "      stream.getVideoTracks()[0].stop();\n",
        "      div.remove();\n",
        "      return canvas.toDataURL('image/jpeg', quality);\n",
        "    }\n",
        "    ''')\n",
        "  display(js)\n",
        "  data = eval_js('takePhoto({})'.format(quality))\n",
        "  resp = urllib.request.urlopen(data)\n",
        "  image = np.asarray(bytearray(resp.read()), dtype=\"uint8\")\n",
        "  image = cv2.imdecode(image, cv2.IMREAD_COLOR)\n",
        "  image = imutils.resize(image, 300)\n",
        "\n",
        "  # return the image\n",
        "  return image"
      ],
      "execution_count": 0,
      "outputs": []
    },
    {
      "cell_type": "code",
      "metadata": {
        "id": "SvUBKwF2h__U",
        "colab_type": "code",
        "outputId": "d69dd02a-862c-4071-c5e1-7b5a6d978e50",
        "colab": {
          "base_uri": "https://localhost:8080/",
          "height": 416
        }
      },
      "source": [
        "net = cv2.dnn.readNet(\"yolov3.weights\", \"yolov3.cfg\")\n",
        "classes = []\n",
        "with open(\"coco.names\", \"r\") as f:\n",
        "  classes = [line.strip() for line in f.readlines()]\n",
        "  \n",
        "layer_names = net.getLayerNames()\n",
        "output_layers = [layer_names[i[0]-1] for i in net.getUnconnectedOutLayers()]\n",
        "while True:\n",
        "  img = take_photo()\n",
        "  img = imutils.rotate(img, 180)\n",
        "  height, width, channels = img.shape\n",
        "  blob = cv2.dnn.blobFromImage(img, 0.00392, (416, 416), (0,0,0), True, crop=False)\n",
        "\n",
        "  net.setInput(blob)\n",
        "  outs = net.forward(output_layers)\n",
        "\n",
        "  #showing information on the screen\n",
        "  class_ids = []\n",
        "  confidences = []\n",
        "  boxes = []\n",
        "  for out in outs:\n",
        "    for detection in out:\n",
        "      scores = detection[5:]\n",
        "      class_id = np.argmax(scores)\n",
        "      confidence = scores[class_id]\n",
        "      if confidence > 0.5:\n",
        "        #object detected\n",
        "        center_x = int(detection[0] * width)\n",
        "        center_y = int(detection[1] * height)\n",
        "        cv2.circle(img, (center_x, center_y), 10, (0,0,255), -1)\n",
        "        w = int(detection[2] * width)\n",
        "        h = int(detection[3] * height)\n",
        "\n",
        "        #Rectangle Coordinates\n",
        "        x = int(center_x - w / 2)\n",
        "        y = int(center_y - h / 2)\n",
        "\n",
        "        boxes.append([x, y, w, h])\n",
        "        confidences.append(float(confidence))\n",
        "        class_ids.append(class_id)\n",
        "      \n",
        "  indexes = cv2.dnn.NMSBoxes(boxes, confidences, 0.5, 0.4)\n",
        "  #print(indexes)\n",
        "  for i in range(len(boxes)):\n",
        "    if i in indexes:\n",
        "      x,y,w,h = boxes[i]\n",
        "      label = str(classes[class_ids[i]])\n",
        "      cv2.rectangle(img, (x, y), (x+w,y+h), (0,255,0), 2)\n",
        "      cv2.putText(img, label, (x, y-10), cv2.FONT_HERSHEY_PLAIN, 1, (0,0,0), 3)\n",
        "  clear_output()\n",
        "\n",
        "  cv2_imshow(img)\n",
        "  #print(time.time())\n",
        "  time.sleep(1)"
      ],
      "execution_count": 5,
      "outputs": [
        {
          "output_type": "display_data",
          "data": {
            "image/png": "[encoded data removed]",
            "text/plain": [
              "<PIL.Image.Image image mode=RGB size=300x225 at 0x7FBDF79F70F0>"
            ]
          },
          "metadata": {
            "tags": []
          }
        },
        {
          "output_type": "error",
          "ename": "KeyboardInterrupt",
          "evalue": "ignored",
          "traceback": [
            "\u001b[0;31m---------------------------------------------------------------------------\u001b[0m",
            "\u001b[0;31mKeyboardInterrupt\u001b[0m                         Traceback (most recent call last)",
            "\u001b[0;32m<ipython-input-5-5429ec8066dc>\u001b[0m in \u001b[0;36m<module>\u001b[0;34m()\u001b[0m\n\u001b[1;32m     52\u001b[0m   \u001b[0mcv2_imshow\u001b[0m\u001b[0;34m(\u001b[0m\u001b[0mimg\u001b[0m\u001b[0;34m)\u001b[0m\u001b[0;34m\u001b[0m\u001b[0;34m\u001b[0m\u001b[0m\n\u001b[1;32m     53\u001b[0m   \u001b[0;31m#print(time.time())\u001b[0m\u001b[0;34m\u001b[0m\u001b[0;34m\u001b[0m\u001b[0;34m\u001b[0m\u001b[0m\n\u001b[0;32m---> 54\u001b[0;31m   \u001b[0mtime\u001b[0m\u001b[0;34m.\u001b[0m\u001b[0msleep\u001b[0m\u001b[0;34m(\u001b[0m\u001b[0;36m1\u001b[0m\u001b[0;34m)\u001b[0m\u001b[0;34m\u001b[0m\u001b[0;34m\u001b[0m\u001b[0m\n\u001b[0m",
            "\u001b[0;31mKeyboardInterrupt\u001b[0m: "
          ]
        }
      ]
    },
    {
      "cell_type": "code",
      "metadata": {
        "id": "BPW_W31kbK0b",
        "colab_type": "code",
        "colab": {}
      },
      "source": [
        "net = cv2.dnn.readNet(\"yolov3.weights\", \"yolov3.cfg\")\n",
        "classes = []\n",
        "with open(\"coco.names\", \"r\") as f:\n",
        "  classes = [line.strip() for line in f.readlines()]\n",
        "  \n",
        "layer_names = net.getLayerNames()\n",
        "output_layers = [layer_names[i[0]-1] for i in net.getUnconnectedOutLayers()]\n",
        "  \n",
        "\n",
        "height, width, channels = img.shape\n",
        "\n",
        "\n",
        "blob = cv2.dnn.blobFromImage(img, 0.00392, (416, 416), (0,0,0), True, crop=False)\n",
        "\n",
        "net.setInput(blob)\n",
        "outs = net.forward(output_layers)\n",
        "\n",
        "#showing information on the screen\n",
        "class_ids = []\n",
        "confidences = []\n",
        "boxes = []\n",
        "for out in outs:\n",
        "  for detection in out:\n",
        "    scores = detection[5:]\n",
        "    class_id = np.argmax(scores)\n",
        "    confidence = scores[class_id]\n",
        "    if confidence > 0.5:\n",
        "      #object detected\n",
        "      center_x = int(detection[0] * width)\n",
        "      center_y = int(detection[1] * height)\n",
        "      cv2.circle(img, (center_x, center_y), 10, (0,0,255), -1)\n",
        "      w = int(detection[2] * width)\n",
        "      h = int(detection[3] * height)\n",
        "      \n",
        "      #Rectangle Coordinates\n",
        "      x = int(center_x - w / 2)\n",
        "      y = int(center_y - h / 2)\n",
        "            \n",
        "      boxes.append([x, y, w, h])\n",
        "      confidences.append(float(confidence))\n",
        "      class_ids.append(class_id)\n",
        "      \n",
        "indexes = cv2.dnn.NMSBoxes(boxes, confidences, 0.5, 0.4)\n",
        "print(indexes)\n",
        "for i in range(len(boxes)):\n",
        "  if i in indexes:\n",
        "    x,y,w,h = boxes[i]\n",
        "    label = str(classes[class_ids[i]])\n",
        "    cv2.rectangle(img, (x, y), (x+w,y+h), (0,255,0), 2)\n",
        "    cv2.putText(img, label, (x, y-10), cv2.FONT_HERSHEY_PLAIN, 1, (0,0,0), 3)\n",
        "      \n",
        "      \n",
        "      \n",
        "      \n",
        "\n",
        "\n",
        "cv2_imshow(img)"
      ],
      "execution_count": 0,
      "outputs": []
    },
    {
      "cell_type": "code",
      "metadata": {
        "id": "WV1FXOBstM2I",
        "colab_type": "code",
        "colab": {}
      },
      "source": [
        "cp /gdrive/My\\ Drive/colabfiles/yolo/darknet/data/person.jpg /gdrive/My\\ Drive/colabfiles/yolo3"
      ],
      "execution_count": 0,
      "outputs": []
    },
    {
      "cell_type": "code",
      "metadata": {
        "id": "TCXLPaEyuiDd",
        "colab_type": "code",
        "colab": {}
      },
      "source": [
        "cp /gdrive/My\\ Drive/colabfiles/yolo/darknet/data/coco.names /gdrive/My\\ Drive/colabfiles/yolo3"
      ],
      "execution_count": 0,
      "outputs": []
    },
    {
      "cell_type": "code",
      "metadata": {
        "id": "zz4mJF3ddjAd",
        "colab_type": "code",
        "colab": {}
      },
      "source": [
        "cp /gdrive/My\\ Drive/colabfiles/yolo/darknet/cfg/yolov3.cfg /gdrive/My\\ Drive/colabfiles/yolo3"
      ],
      "execution_count": 0,
      "outputs": []
    },
    {
      "cell_type": "code",
      "metadata": {
        "id": "xECq28Clg_We",
        "colab_type": "code",
        "outputId": "d1f8d829-bb88-48d7-ac79-4238939299d7",
        "colab": {
          "base_uri": "https://localhost:8080/",
          "height": 35
        }
      },
      "source": [
        "ls"
      ],
      "execution_count": 0,
      "outputs": [
        {
          "output_type": "stream",
          "text": [
            "coco.names  person.jpg  yolov3.cfg  yolov3.weights\n"
          ],
          "name": "stdout"
        }
      ]
    },
    {
      "cell_type": "markdown",
      "metadata": {
        "id": "p0Wlv7jDMJS6",
        "colab_type": "text"
      },
      "source": [
        "Verzeichnis löschen"
      ]
    },
    {
      "cell_type": "code",
      "metadata": {
        "id": "_7PDzGI9UyL6",
        "colab_type": "code",
        "colab": {}
      },
      "source": [
        "path =\"/gdrive/My Drive/colabfiles/rcnnopencv/\"\n",
        "tf.gfile.DeleteRecursively(path)"
      ],
      "execution_count": 0,
      "outputs": []
    }
  ]
}