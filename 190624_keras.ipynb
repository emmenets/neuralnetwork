{
  "nbformat": 4,
  "nbformat_minor": 0,
  "metadata": {
    "colab": {
      "name": "190510facetracking.ipynb",
      "version": "0.3.2",
      "provenance": [],
      "collapsed_sections": [],
      "include_colab_link": true
    },
    "kernelspec": {
      "name": "python3",
      "display_name": "Python 3"
    },
    "accelerator": "GPU"
  },
  "cells": [
    {
      "cell_type": "markdown",
      "metadata": {
        "id": "view-in-github",
        "colab_type": "text"
      },
      "source": [
        "<a href=\"https://colab.research.google.com/github/emmenets/neuralnetwork/blob/master/190624_keras.ipynb\" target=\"_parent\"><img src=\"https://colab.research.google.com/assets/colab-badge.svg\" alt=\"Open In Colab\"/></a>"
      ]
    },
    {
      "cell_type": "code",
      "metadata": {
        "id": "cqgAkxabRCcM",
        "colab_type": "code",
        "outputId": "db91543a-d0c5-4578-848f-3071bf37f1e1",
        "colab": {
          "base_uri": "https://localhost:8080/",
          "height": 124
        }
      },
      "source": [
        "from google.colab.patches import cv2_imshow\n",
        "import numpy as np\n",
        "import cv2\n",
        "import imutils\n",
        "#import matplotlib.pyplot as plt\n",
        "#import tensorflow as tf\n",
        "#import scipy.special as ss\n",
        "\n",
        "from IPython.display import display, Javascript\n",
        "#from google.colab.output import eval_js\n",
        "#from base64 import b64decode\n",
        "#from IPython.display import Image\n",
        "#from IPython.display import clear_output\n",
        "#import urllib\n",
        "#import time\n",
        "import os, sys\n",
        "from google.colab import drive\n",
        "drive.mount('/gdrive')"
      ],
      "execution_count": 2,
      "outputs": [
        {
          "output_type": "stream",
          "text": [
            "Go to this URL in a browser: https://accounts.google.com/o/oauth2/auth?client_id=947318989803-6bn6qk8qdgf4n4g3pfee6491hc0brc4i.apps.googleusercontent.com&redirect_uri=urn%3Aietf%3Awg%3Aoauth%3A2.0%3Aoob&scope=email%20https%3A%2F%2Fwww.googleapis.com%2Fauth%2Fdocs.test%20https%3A%2F%2Fwww.googleapis.com%2Fauth%2Fdrive%20https%3A%2F%2Fwww.googleapis.com%2Fauth%2Fdrive.photos.readonly%20https%3A%2F%2Fwww.googleapis.com%2Fauth%2Fpeopleapi.readonly&response_type=code\n",
            "\n",
            "Enter your authorization code:\n",
            "··········\n",
            "Mounted at /gdrive\n"
          ],
          "name": "stdout"
        }
      ]
    },
    {
      "cell_type": "markdown",
      "metadata": {
        "id": "RUj5Xg53QCHm",
        "colab_type": "text"
      },
      "source": [
        "Ordner erstellen"
      ]
    },
    {
      "cell_type": "code",
      "metadata": {
        "id": "Ma2cLDMnmIut",
        "colab_type": "code",
        "colab": {}
      },
      "source": [
        "cd /gdrive/My\\ Drive/colabfiles/keras-mask-rcnn/\n"
      ],
      "execution_count": 0,
      "outputs": []
    },
    {
      "cell_type": "code",
      "metadata": {
        "id": "xk03UVfNrSpu",
        "colab_type": "code",
        "colab": {}
      },
      "source": [
        "!pip install numpy scipy\n",
        "!pip install pillow scikit-image matplotlib imutils\n",
        "!pip install tensorflow \n",
        "!pip install keras h5py"
      ],
      "execution_count": 0,
      "outputs": []
    },
    {
      "cell_type": "code",
      "metadata": {
        "id": "_0IoDpSksUDY",
        "colab_type": "code",
        "colab": {}
      },
      "source": [
        "cd Mask_RCNN"
      ],
      "execution_count": 0,
      "outputs": []
    },
    {
      "cell_type": "code",
      "metadata": {
        "id": "e0FVvwBysaEI",
        "colab_type": "code",
        "colab": {}
      },
      "source": [
        "!python setup.py install"
      ],
      "execution_count": 0,
      "outputs": []
    },
    {
      "cell_type": "code",
      "metadata": {
        "id": "aXsU2hm8X3ue",
        "colab_type": "code",
        "colab": {}
      },
      "source": [
        "# USAGE\n",
        "# python maskrcnn_predict.py --weights mask_rcnn_coco.h5 --labels coco_labels.txt --image images/30th_birthday.jpg\n",
        "\n",
        "# import the necessary packages\n",
        "from mrcnn.config import Config\n",
        "from mrcnn import model as modellib\n",
        "from mrcnn import visualize\n",
        "\n",
        "import colorsys\n",
        "\n",
        "import random\n",
        "import cv2\n",
        "import os\n",
        "\n",
        "# construct the argument parse and parse the arguments\n",
        "\n",
        "\n",
        "# load the class label names from disk, one label per line\n",
        "CLASS_NAMES = open(\"/gdrive/My Drive/colabfiles/keras-mask-rcnn/coco_labels.txt\").read().strip().split(\"\\n\")\n",
        "\n",
        "# generate random (but visually distinct) colors for each class label\n",
        "# (thanks to Matterport Mask R-CNN for the method!)\n",
        "hsv = [(i / len(CLASS_NAMES), 1, 1.0) for i in range(len(CLASS_NAMES))]\n",
        "COLORS = list(map(lambda c: colorsys.hsv_to_rgb(*c), hsv))\n",
        "random.seed(42)\n",
        "random.shuffle(COLORS)\n",
        "\n",
        "class SimpleConfig(Config):\n",
        "\t# give the configuration a recognizable name\n",
        "\tNAME = \"coco_inference\"\n",
        "\n",
        "\t# set the number of GPUs to use along with the number of images\n",
        "\t# per GPU\n",
        "\tGPU_COUNT = 1\n",
        "\tIMAGES_PER_GPU = 1\n",
        "\n",
        "\t# number of classes (we would normally add +1 for the background\n",
        "\t# but the background class is *already* included in the class\n",
        "\t# names)\n",
        "\tNUM_CLASSES = len(CLASS_NAMES)\n",
        "\n",
        "# initialize the inference configuration\n",
        "config = SimpleConfig()\n",
        "\n",
        "# initialize the Mask R-CNN model for inference and then load the\n",
        "# weights\n",
        "print(\"[INFO] loading Mask R-CNN model...\")\n",
        "model = modellib.MaskRCNN(mode=\"inference\", config=config,\n",
        "\tmodel_dir=os.getcwd())\n",
        "model.load_weights(\"/gdrive/My Drive/colabfiles/keras-mask-rcnn/mask_rcnn_coco.h5\", by_name=True)\n",
        "\n",
        "# load the input image, convert it from BGR to RGB channel\n",
        "# ordering, and resize the image\n",
        "image = cv2.imread(\"/gdrive/My Drive/colabfiles/keras-mask-rcnn/images/test1.jpg\")\n",
        "image = cv2.cvtColor(image, cv2.COLOR_BGR2RGB)\n",
        "image = imutils.resize(image, width=512)\n",
        "\n",
        "# perform a forward pass of the network to obtain the results\n",
        "print(\"[INFO] making predictions with Mask R-CNN...\")\n",
        "r = model.detect([image], verbose=1)[0]\n",
        "\n",
        "# loop over of the detected object's bounding boxes and masks\n",
        "for i in range(0, r[\"rois\"].shape[0]):\n",
        "\t# extract the class ID and mask for the current detection, then\n",
        "\t# grab the color to visualize the mask (in BGR format)\n",
        "\tclassID = r[\"class_ids\"][i]\n",
        "\tmask = r[\"masks\"][:, :, i]\n",
        "\tcolor = COLORS[classID][::-1]\n",
        "\n",
        "\t# visualize the pixel-wise mask of the object\n",
        "\timage = visualize.apply_mask(image, mask, color, alpha=0.5)\n",
        "\n",
        "# convert the image back to BGR so we can use OpenCV's drawing\n",
        "# functions\n",
        "image = cv2.cvtColor(image, cv2.COLOR_RGB2BGR)\n",
        "\n",
        "# loop over the predicted scores and class labels\n",
        "for i in range(0, len(r[\"scores\"])):\n",
        "\t# extract the bounding box information, class ID, label, predicted\n",
        "\t# probability, and visualization color\n",
        "\t(startY, startX, endY, endX) = r[\"rois\"][i]\n",
        "\tclassID = r[\"class_ids\"][i]\n",
        "\tlabel = CLASS_NAMES[classID]\n",
        "\tscore = r[\"scores\"][i]\n",
        "\tcolor = [int(c) for c in np.array(COLORS[classID]) * 255]\n",
        "\n",
        "\t# draw the bounding box, class label, and score of the object\n",
        "\tcv2.rectangle(image, (startX, startY), (endX, endY), color, 2)\n",
        "\ttext = \"{}: {:.3f}\".format(label, score)\n",
        "\ty = startY - 10 if startY - 10 > 10 else startY + 10\n",
        "\tcv2.putText(image, text, (startX, y), cv2.FONT_HERSHEY_SIMPLEX,\n",
        "\t\t0.6, color, 2)\n",
        "\n",
        "# show the output image\n",
        "cv2_imshow(image)\n",
        "\n",
        "\t\t"
      ],
      "execution_count": 0,
      "outputs": []
    },
    {
      "cell_type": "markdown",
      "metadata": {
        "id": "p0Wlv7jDMJS6",
        "colab_type": "text"
      },
      "source": [
        "Verzeichnis löschen"
      ]
    },
    {
      "cell_type": "code",
      "metadata": {
        "id": "_7PDzGI9UyL6",
        "colab_type": "code",
        "colab": {}
      },
      "source": [
        "path =\"/gdrive/My Drive/colabfiles/rcnnopencv/\"\n",
        "tf.gfile.DeleteRecursively(path)"
      ],
      "execution_count": 0,
      "outputs": []
    }
  ]
}